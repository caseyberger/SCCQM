{
  "nbformat": 4,
  "nbformat_minor": 0,
  "metadata": {
    "colab": {
      "name": "Data Analysis Practice.ipynb",
      "provenance": [],
      "collapsed_sections": [],
      "authorship_tag": "ABX9TyMgiAojQrDDGFynOXg7TVDV",
      "include_colab_link": true
    },
    "kernelspec": {
      "name": "python3",
      "display_name": "Python 3"
    },
    "language_info": {
      "name": "python"
    }
  },
  "cells": [
    {
      "cell_type": "markdown",
      "metadata": {
        "id": "view-in-github",
        "colab_type": "text"
      },
      "source": [
        "<a href=\"https://colab.research.google.com/github/caseyberger/SCCQM/blob/main/Data_Analysis_Practice.ipynb\" target=\"_parent\"><img src=\"https://colab.research.google.com/assets/colab-badge.svg\" alt=\"Open In Colab\"/></a>"
      ]
    },
    {
      "cell_type": "markdown",
      "metadata": {
        "id": "pAynCotUrN6g"
      },
      "source": [
        "Here are two great resources for practice exercises for Python.\n",
        "* lists: https://www.w3resource.com/python-exercises/list/\n",
        "* numpy: https://www.w3resource.com/python-exercises/numpy/index-array.php \n",
        "\n",
        "Start with lists and do at least the first 12 exercises. You do not need to do all 272 (that's way too much), but feel free to keep going if you feel you need more practice.\n",
        "\n",
        "Then try the first 15 numpy exercises. You may need to do some googling for these ones :)\n",
        "\n",
        "To use numpy, you will have to import the package. You can do this by running the command below:"
      ]
    },
    {
      "cell_type": "code",
      "metadata": {
        "id": "boyilE94p66e"
      },
      "source": [
        "import numpy as np"
      ],
      "execution_count": null,
      "outputs": []
    },
    {
      "cell_type": "markdown",
      "metadata": {
        "id": "LzXM79FnxFQ9"
      },
      "source": [
        "Then, whenever you use a numpy function, you'll need to add \"np.\" before the function. Ask me if you have any questions!"
      ]
    },
    {
      "cell_type": "code",
      "metadata": {
        "id": "G2sD_DNWxMij"
      },
      "source": [
        ""
      ],
      "execution_count": null,
      "outputs": []
    }
  ]
}